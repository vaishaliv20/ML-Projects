{
 "cells": [
  {
   "cell_type": "markdown",
   "metadata": {},
   "source": [
    "## Loan Application Status Prediction\n",
    "\n",
    "Problem Statement:\n",
    "    \n",
    "This dataset includes details of applicants who have applied for loan. The dataset includes details like credit history, loan amount, their income, dependents etc. \n",
    "\n",
    "Independent Variables:\n",
    "\n",
    "- Loan_ID\n",
    "\n",
    "- Gender\n",
    "\n",
    "- Married\n",
    "\n",
    "- Dependents\n",
    "\n",
    "- Education\n",
    "\n",
    "- Self_Employed\n",
    "\n",
    "- ApplicantIncome\n",
    "\n",
    "- CoapplicantIncome\n",
    "\n",
    "- Loan_Amount\n",
    "\n",
    "- Loan_Amount_Term\n",
    "\n",
    "- Credit History\n",
    "\n",
    "- Property_Area\n",
    "\n",
    "Dependent Variable (Target Variable):\n",
    "\n",
    "- Loan_Status\n",
    "\n",
    "We will build a model that can predict whether the loan of the applicant will be approved or not on the basis of the details provided in the dataset. "
   ]
  },
  {
   "cell_type": "code",
   "execution_count": 1,
   "metadata": {},
   "outputs": [],
   "source": [
    "# Importing libraries\n",
    "import pandas as pd\n",
    "import numpy as np\n",
    "import matplotlib.pyplot as plt\n",
    "import seaborn as sns\n",
    "import warnings\n",
    "warnings.filterwarnings('ignore')"
   ]
  },
  {
   "cell_type": "code",
   "execution_count": 2,
   "metadata": {},
   "outputs": [
    {
     "data": {
      "text/html": [
       "<div>\n",
       "<style scoped>\n",
       "    .dataframe tbody tr th:only-of-type {\n",
       "        vertical-align: middle;\n",
       "    }\n",
       "\n",
       "    .dataframe tbody tr th {\n",
       "        vertical-align: top;\n",
       "    }\n",
       "\n",
       "    .dataframe thead th {\n",
       "        text-align: right;\n",
       "    }\n",
       "</style>\n",
       "<table border=\"1\" class=\"dataframe\">\n",
       "  <thead>\n",
       "    <tr style=\"text-align: right;\">\n",
       "      <th></th>\n",
       "      <th>Loan_ID</th>\n",
       "      <th>Gender</th>\n",
       "      <th>Married</th>\n",
       "      <th>Dependents</th>\n",
       "      <th>Education</th>\n",
       "      <th>Self_Employed</th>\n",
       "      <th>ApplicantIncome</th>\n",
       "      <th>CoapplicantIncome</th>\n",
       "      <th>LoanAmount</th>\n",
       "      <th>Loan_Amount_Term</th>\n",
       "      <th>Credit_History</th>\n",
       "      <th>Property_Area</th>\n",
       "      <th>Loan_Status</th>\n",
       "    </tr>\n",
       "  </thead>\n",
       "  <tbody>\n",
       "    <tr>\n",
       "      <th>0</th>\n",
       "      <td>LP001002</td>\n",
       "      <td>Male</td>\n",
       "      <td>No</td>\n",
       "      <td>0</td>\n",
       "      <td>Graduate</td>\n",
       "      <td>No</td>\n",
       "      <td>5849</td>\n",
       "      <td>0.0</td>\n",
       "      <td>NaN</td>\n",
       "      <td>360.0</td>\n",
       "      <td>1.0</td>\n",
       "      <td>Urban</td>\n",
       "      <td>Y</td>\n",
       "    </tr>\n",
       "    <tr>\n",
       "      <th>1</th>\n",
       "      <td>LP001003</td>\n",
       "      <td>Male</td>\n",
       "      <td>Yes</td>\n",
       "      <td>1</td>\n",
       "      <td>Graduate</td>\n",
       "      <td>No</td>\n",
       "      <td>4583</td>\n",
       "      <td>1508.0</td>\n",
       "      <td>128.0</td>\n",
       "      <td>360.0</td>\n",
       "      <td>1.0</td>\n",
       "      <td>Rural</td>\n",
       "      <td>N</td>\n",
       "    </tr>\n",
       "    <tr>\n",
       "      <th>2</th>\n",
       "      <td>LP001005</td>\n",
       "      <td>Male</td>\n",
       "      <td>Yes</td>\n",
       "      <td>0</td>\n",
       "      <td>Graduate</td>\n",
       "      <td>Yes</td>\n",
       "      <td>3000</td>\n",
       "      <td>0.0</td>\n",
       "      <td>66.0</td>\n",
       "      <td>360.0</td>\n",
       "      <td>1.0</td>\n",
       "      <td>Urban</td>\n",
       "      <td>Y</td>\n",
       "    </tr>\n",
       "    <tr>\n",
       "      <th>3</th>\n",
       "      <td>LP001006</td>\n",
       "      <td>Male</td>\n",
       "      <td>Yes</td>\n",
       "      <td>0</td>\n",
       "      <td>Not Graduate</td>\n",
       "      <td>No</td>\n",
       "      <td>2583</td>\n",
       "      <td>2358.0</td>\n",
       "      <td>120.0</td>\n",
       "      <td>360.0</td>\n",
       "      <td>1.0</td>\n",
       "      <td>Urban</td>\n",
       "      <td>Y</td>\n",
       "    </tr>\n",
       "    <tr>\n",
       "      <th>4</th>\n",
       "      <td>LP001008</td>\n",
       "      <td>Male</td>\n",
       "      <td>No</td>\n",
       "      <td>0</td>\n",
       "      <td>Graduate</td>\n",
       "      <td>No</td>\n",
       "      <td>6000</td>\n",
       "      <td>0.0</td>\n",
       "      <td>141.0</td>\n",
       "      <td>360.0</td>\n",
       "      <td>1.0</td>\n",
       "      <td>Urban</td>\n",
       "      <td>Y</td>\n",
       "    </tr>\n",
       "    <tr>\n",
       "      <th>...</th>\n",
       "      <td>...</td>\n",
       "      <td>...</td>\n",
       "      <td>...</td>\n",
       "      <td>...</td>\n",
       "      <td>...</td>\n",
       "      <td>...</td>\n",
       "      <td>...</td>\n",
       "      <td>...</td>\n",
       "      <td>...</td>\n",
       "      <td>...</td>\n",
       "      <td>...</td>\n",
       "      <td>...</td>\n",
       "      <td>...</td>\n",
       "    </tr>\n",
       "    <tr>\n",
       "      <th>609</th>\n",
       "      <td>LP002978</td>\n",
       "      <td>Female</td>\n",
       "      <td>No</td>\n",
       "      <td>0</td>\n",
       "      <td>Graduate</td>\n",
       "      <td>No</td>\n",
       "      <td>2900</td>\n",
       "      <td>0.0</td>\n",
       "      <td>71.0</td>\n",
       "      <td>360.0</td>\n",
       "      <td>1.0</td>\n",
       "      <td>Rural</td>\n",
       "      <td>Y</td>\n",
       "    </tr>\n",
       "    <tr>\n",
       "      <th>610</th>\n",
       "      <td>LP002979</td>\n",
       "      <td>Male</td>\n",
       "      <td>Yes</td>\n",
       "      <td>3+</td>\n",
       "      <td>Graduate</td>\n",
       "      <td>No</td>\n",
       "      <td>4106</td>\n",
       "      <td>0.0</td>\n",
       "      <td>40.0</td>\n",
       "      <td>180.0</td>\n",
       "      <td>1.0</td>\n",
       "      <td>Rural</td>\n",
       "      <td>Y</td>\n",
       "    </tr>\n",
       "    <tr>\n",
       "      <th>611</th>\n",
       "      <td>LP002983</td>\n",
       "      <td>Male</td>\n",
       "      <td>Yes</td>\n",
       "      <td>1</td>\n",
       "      <td>Graduate</td>\n",
       "      <td>No</td>\n",
       "      <td>8072</td>\n",
       "      <td>240.0</td>\n",
       "      <td>253.0</td>\n",
       "      <td>360.0</td>\n",
       "      <td>1.0</td>\n",
       "      <td>Urban</td>\n",
       "      <td>Y</td>\n",
       "    </tr>\n",
       "    <tr>\n",
       "      <th>612</th>\n",
       "      <td>LP002984</td>\n",
       "      <td>Male</td>\n",
       "      <td>Yes</td>\n",
       "      <td>2</td>\n",
       "      <td>Graduate</td>\n",
       "      <td>No</td>\n",
       "      <td>7583</td>\n",
       "      <td>0.0</td>\n",
       "      <td>187.0</td>\n",
       "      <td>360.0</td>\n",
       "      <td>1.0</td>\n",
       "      <td>Urban</td>\n",
       "      <td>Y</td>\n",
       "    </tr>\n",
       "    <tr>\n",
       "      <th>613</th>\n",
       "      <td>LP002990</td>\n",
       "      <td>Female</td>\n",
       "      <td>No</td>\n",
       "      <td>0</td>\n",
       "      <td>Graduate</td>\n",
       "      <td>Yes</td>\n",
       "      <td>4583</td>\n",
       "      <td>0.0</td>\n",
       "      <td>133.0</td>\n",
       "      <td>360.0</td>\n",
       "      <td>0.0</td>\n",
       "      <td>Semiurban</td>\n",
       "      <td>N</td>\n",
       "    </tr>\n",
       "  </tbody>\n",
       "</table>\n",
       "<p>614 rows × 13 columns</p>\n",
       "</div>"
      ],
      "text/plain": [
       "      Loan_ID  Gender Married Dependents     Education Self_Employed  \\\n",
       "0    LP001002    Male      No          0      Graduate            No   \n",
       "1    LP001003    Male     Yes          1      Graduate            No   \n",
       "2    LP001005    Male     Yes          0      Graduate           Yes   \n",
       "3    LP001006    Male     Yes          0  Not Graduate            No   \n",
       "4    LP001008    Male      No          0      Graduate            No   \n",
       "..        ...     ...     ...        ...           ...           ...   \n",
       "609  LP002978  Female      No          0      Graduate            No   \n",
       "610  LP002979    Male     Yes         3+      Graduate            No   \n",
       "611  LP002983    Male     Yes          1      Graduate            No   \n",
       "612  LP002984    Male     Yes          2      Graduate            No   \n",
       "613  LP002990  Female      No          0      Graduate           Yes   \n",
       "\n",
       "     ApplicantIncome  CoapplicantIncome  LoanAmount  Loan_Amount_Term  \\\n",
       "0               5849                0.0         NaN             360.0   \n",
       "1               4583             1508.0       128.0             360.0   \n",
       "2               3000                0.0        66.0             360.0   \n",
       "3               2583             2358.0       120.0             360.0   \n",
       "4               6000                0.0       141.0             360.0   \n",
       "..               ...                ...         ...               ...   \n",
       "609             2900                0.0        71.0             360.0   \n",
       "610             4106                0.0        40.0             180.0   \n",
       "611             8072              240.0       253.0             360.0   \n",
       "612             7583                0.0       187.0             360.0   \n",
       "613             4583                0.0       133.0             360.0   \n",
       "\n",
       "     Credit_History Property_Area Loan_Status  \n",
       "0               1.0         Urban           Y  \n",
       "1               1.0         Rural           N  \n",
       "2               1.0         Urban           Y  \n",
       "3               1.0         Urban           Y  \n",
       "4               1.0         Urban           Y  \n",
       "..              ...           ...         ...  \n",
       "609             1.0         Rural           Y  \n",
       "610             1.0         Rural           Y  \n",
       "611             1.0         Urban           Y  \n",
       "612             1.0         Urban           Y  \n",
       "613             0.0     Semiurban           N  \n",
       "\n",
       "[614 rows x 13 columns]"
      ]
     },
     "execution_count": 2,
     "metadata": {},
     "output_type": "execute_result"
    }
   ],
   "source": [
    "# Importing the data set\n",
    "import pandas as pd\n",
    "df=pd.read_csv(\"loan.csv\")\n",
    "df"
   ]
  },
  {
   "cell_type": "code",
   "execution_count": 3,
   "metadata": {},
   "outputs": [
    {
     "data": {
      "text/plain": [
       "Index(['Loan_ID', 'Gender', 'Married', 'Dependents', 'Education',\n",
       "       'Self_Employed', 'ApplicantIncome', 'CoapplicantIncome', 'LoanAmount',\n",
       "       'Loan_Amount_Term', 'Credit_History', 'Property_Area', 'Loan_Status'],\n",
       "      dtype='object')"
      ]
     },
     "execution_count": 3,
     "metadata": {},
     "output_type": "execute_result"
    }
   ],
   "source": [
    "df.columns"
   ]
  },
  {
   "cell_type": "code",
   "execution_count": 4,
   "metadata": {},
   "outputs": [],
   "source": [
    "# loan_ID column can be removed as it has no significance in prediction\n",
    "df.drop(columns=[\"Loan_ID\"],inplace=True)"
   ]
  },
  {
   "cell_type": "code",
   "execution_count": 5,
   "metadata": {},
   "outputs": [
    {
     "name": "stdout",
     "output_type": "stream",
     "text": [
      "Column name : Gender   Column data type : object   Null values:  13\n",
      "Column name : Married   Column data type : object   Null values:  3\n",
      "Column name : Dependents   Column data type : object   Null values:  15\n",
      "Column name : Education   Column data type : object   Null values:  0\n",
      "Column name : Self_Employed   Column data type : object   Null values:  32\n",
      "Column name : ApplicantIncome   Column data type : int64   Null values:  0\n",
      "Column name : CoapplicantIncome   Column data type : float64   Null values:  0\n",
      "Column name : LoanAmount   Column data type : float64   Null values:  22\n",
      "Column name : Loan_Amount_Term   Column data type : float64   Null values:  14\n",
      "Column name : Credit_History   Column data type : float64   Null values:  50\n",
      "Column name : Property_Area   Column data type : object   Null values:  0\n",
      "Column name : Loan_Status   Column data type : object   Null values:  0\n"
     ]
    }
   ],
   "source": [
    "# Checking null values and data type of each column\n",
    "for col in df.columns:\n",
    "    print(\"Column name :\",col, \"  Column data type :\",df[col].dtype, \"  Null values: \",df[col].isnull().sum())\n",
    "#Below o/p shows presense of null values in each column   "
   ]
  },
  {
   "cell_type": "code",
   "execution_count": 6,
   "metadata": {},
   "outputs": [
    {
     "data": {
      "text/html": [
       "<div>\n",
       "<style scoped>\n",
       "    .dataframe tbody tr th:only-of-type {\n",
       "        vertical-align: middle;\n",
       "    }\n",
       "\n",
       "    .dataframe tbody tr th {\n",
       "        vertical-align: top;\n",
       "    }\n",
       "\n",
       "    .dataframe thead th {\n",
       "        text-align: right;\n",
       "    }\n",
       "</style>\n",
       "<table border=\"1\" class=\"dataframe\">\n",
       "  <thead>\n",
       "    <tr style=\"text-align: right;\">\n",
       "      <th></th>\n",
       "      <th>ApplicantIncome</th>\n",
       "      <th>CoapplicantIncome</th>\n",
       "      <th>LoanAmount</th>\n",
       "      <th>Loan_Amount_Term</th>\n",
       "      <th>Credit_History</th>\n",
       "    </tr>\n",
       "  </thead>\n",
       "  <tbody>\n",
       "    <tr>\n",
       "      <th>count</th>\n",
       "      <td>614.000000</td>\n",
       "      <td>614.000000</td>\n",
       "      <td>592.000000</td>\n",
       "      <td>600.00000</td>\n",
       "      <td>564.000000</td>\n",
       "    </tr>\n",
       "    <tr>\n",
       "      <th>mean</th>\n",
       "      <td>5403.459283</td>\n",
       "      <td>1621.245798</td>\n",
       "      <td>146.412162</td>\n",
       "      <td>342.00000</td>\n",
       "      <td>0.842199</td>\n",
       "    </tr>\n",
       "    <tr>\n",
       "      <th>std</th>\n",
       "      <td>6109.041673</td>\n",
       "      <td>2926.248369</td>\n",
       "      <td>85.587325</td>\n",
       "      <td>65.12041</td>\n",
       "      <td>0.364878</td>\n",
       "    </tr>\n",
       "    <tr>\n",
       "      <th>min</th>\n",
       "      <td>150.000000</td>\n",
       "      <td>0.000000</td>\n",
       "      <td>9.000000</td>\n",
       "      <td>12.00000</td>\n",
       "      <td>0.000000</td>\n",
       "    </tr>\n",
       "    <tr>\n",
       "      <th>25%</th>\n",
       "      <td>2877.500000</td>\n",
       "      <td>0.000000</td>\n",
       "      <td>100.000000</td>\n",
       "      <td>360.00000</td>\n",
       "      <td>1.000000</td>\n",
       "    </tr>\n",
       "    <tr>\n",
       "      <th>50%</th>\n",
       "      <td>3812.500000</td>\n",
       "      <td>1188.500000</td>\n",
       "      <td>128.000000</td>\n",
       "      <td>360.00000</td>\n",
       "      <td>1.000000</td>\n",
       "    </tr>\n",
       "    <tr>\n",
       "      <th>75%</th>\n",
       "      <td>5795.000000</td>\n",
       "      <td>2297.250000</td>\n",
       "      <td>168.000000</td>\n",
       "      <td>360.00000</td>\n",
       "      <td>1.000000</td>\n",
       "    </tr>\n",
       "    <tr>\n",
       "      <th>max</th>\n",
       "      <td>81000.000000</td>\n",
       "      <td>41667.000000</td>\n",
       "      <td>700.000000</td>\n",
       "      <td>480.00000</td>\n",
       "      <td>1.000000</td>\n",
       "    </tr>\n",
       "  </tbody>\n",
       "</table>\n",
       "</div>"
      ],
      "text/plain": [
       "       ApplicantIncome  CoapplicantIncome  LoanAmount  Loan_Amount_Term  \\\n",
       "count       614.000000         614.000000  592.000000         600.00000   \n",
       "mean       5403.459283        1621.245798  146.412162         342.00000   \n",
       "std        6109.041673        2926.248369   85.587325          65.12041   \n",
       "min         150.000000           0.000000    9.000000          12.00000   \n",
       "25%        2877.500000           0.000000  100.000000         360.00000   \n",
       "50%        3812.500000        1188.500000  128.000000         360.00000   \n",
       "75%        5795.000000        2297.250000  168.000000         360.00000   \n",
       "max       81000.000000       41667.000000  700.000000         480.00000   \n",
       "\n",
       "       Credit_History  \n",
       "count      564.000000  \n",
       "mean         0.842199  \n",
       "std          0.364878  \n",
       "min          0.000000  \n",
       "25%          1.000000  \n",
       "50%          1.000000  \n",
       "75%          1.000000  \n",
       "max          1.000000  "
      ]
     },
     "execution_count": 6,
     "metadata": {},
     "output_type": "execute_result"
    }
   ],
   "source": [
    "# Describing the dataset\n",
    "df.describe()"
   ]
  },
  {
   "cell_type": "markdown",
   "metadata": {},
   "source": [
    "There are outliers present in the dataset."
   ]
  },
  {
   "cell_type": "code",
   "execution_count": 7,
   "metadata": {},
   "outputs": [
    {
     "data": {
      "text/html": [
       "<div>\n",
       "<style scoped>\n",
       "    .dataframe tbody tr th:only-of-type {\n",
       "        vertical-align: middle;\n",
       "    }\n",
       "\n",
       "    .dataframe tbody tr th {\n",
       "        vertical-align: top;\n",
       "    }\n",
       "\n",
       "    .dataframe thead th {\n",
       "        text-align: right;\n",
       "    }\n",
       "</style>\n",
       "<table border=\"1\" class=\"dataframe\">\n",
       "  <thead>\n",
       "    <tr style=\"text-align: right;\">\n",
       "      <th></th>\n",
       "      <th>ApplicantIncome</th>\n",
       "      <th>CoapplicantIncome</th>\n",
       "      <th>LoanAmount</th>\n",
       "      <th>Loan_Amount_Term</th>\n",
       "      <th>Credit_History</th>\n",
       "    </tr>\n",
       "  </thead>\n",
       "  <tbody>\n",
       "    <tr>\n",
       "      <th>ApplicantIncome</th>\n",
       "      <td>1.000000</td>\n",
       "      <td>-0.116605</td>\n",
       "      <td>0.570909</td>\n",
       "      <td>-0.045306</td>\n",
       "      <td>-0.014715</td>\n",
       "    </tr>\n",
       "    <tr>\n",
       "      <th>CoapplicantIncome</th>\n",
       "      <td>-0.116605</td>\n",
       "      <td>1.000000</td>\n",
       "      <td>0.188619</td>\n",
       "      <td>-0.059878</td>\n",
       "      <td>-0.002056</td>\n",
       "    </tr>\n",
       "    <tr>\n",
       "      <th>LoanAmount</th>\n",
       "      <td>0.570909</td>\n",
       "      <td>0.188619</td>\n",
       "      <td>1.000000</td>\n",
       "      <td>0.039447</td>\n",
       "      <td>-0.008433</td>\n",
       "    </tr>\n",
       "    <tr>\n",
       "      <th>Loan_Amount_Term</th>\n",
       "      <td>-0.045306</td>\n",
       "      <td>-0.059878</td>\n",
       "      <td>0.039447</td>\n",
       "      <td>1.000000</td>\n",
       "      <td>0.001470</td>\n",
       "    </tr>\n",
       "    <tr>\n",
       "      <th>Credit_History</th>\n",
       "      <td>-0.014715</td>\n",
       "      <td>-0.002056</td>\n",
       "      <td>-0.008433</td>\n",
       "      <td>0.001470</td>\n",
       "      <td>1.000000</td>\n",
       "    </tr>\n",
       "  </tbody>\n",
       "</table>\n",
       "</div>"
      ],
      "text/plain": [
       "                   ApplicantIncome  CoapplicantIncome  LoanAmount  \\\n",
       "ApplicantIncome           1.000000          -0.116605    0.570909   \n",
       "CoapplicantIncome        -0.116605           1.000000    0.188619   \n",
       "LoanAmount                0.570909           0.188619    1.000000   \n",
       "Loan_Amount_Term         -0.045306          -0.059878    0.039447   \n",
       "Credit_History           -0.014715          -0.002056   -0.008433   \n",
       "\n",
       "                   Loan_Amount_Term  Credit_History  \n",
       "ApplicantIncome           -0.045306       -0.014715  \n",
       "CoapplicantIncome         -0.059878       -0.002056  \n",
       "LoanAmount                 0.039447       -0.008433  \n",
       "Loan_Amount_Term           1.000000        0.001470  \n",
       "Credit_History             0.001470        1.000000  "
      ]
     },
     "execution_count": 7,
     "metadata": {},
     "output_type": "execute_result"
    }
   ],
   "source": [
    "# Checking the corrrelation matrix\n",
    "df.corr()"
   ]
  },
  {
   "cell_type": "markdown",
   "metadata": {},
   "source": [
    "### Data Visualization"
   ]
  },
  {
   "cell_type": "code",
   "execution_count": 8,
   "metadata": {},
   "outputs": [
    {
     "data": {
      "text/plain": [
       "<AxesSubplot:>"
      ]
     },
     "execution_count": 8,
     "metadata": {},
     "output_type": "execute_result"
    },
    {
     "data": {
      "image/png": "[encoded data removed]",
      "text/plain": [
       "<Figure size 1080x720 with 1 Axes>"
      ]
     },
     "metadata": {
      "needs_background": "light"
     },
     "output_type": "display_data"
    }
   ],
   "source": [
    "#Checking for outliers in columns with boxplot\n",
    "plt.figure(figsize=(15,10))\n",
    "sns.boxplot(data=df, orient=\"v\")"
   ]
  },
  {
   "cell_type": "markdown",
   "metadata": {},
   "source": [
    "Columns \"ApplicantIncome\" and \"CoapplicantIncome\" have many outliers but they indicate some people having very high income so no need to remove them. However, skewness can be removed from such columns without removing outliers."
   ]
  },
  {
   "cell_type": "code",
   "execution_count": 9,
   "metadata": {},
   "outputs": [
    {
     "data": {
      "image/png": "[encoded data removed]",
      "text/plain": [
       "<Figure size 432x288 with 1 Axes>"
      ]
     },
     "metadata": {
      "needs_background": "light"
     },
     "output_type": "display_data"
    }
   ],
   "source": [
    "# Checking the count of each type of class in loan status \n",
    "sns.countplot(x=\"Loan_Status\",data=df)\n",
    "plt.show()"
   ]
  },
  {
   "cell_type": "markdown",
   "metadata": {},
   "source": [
    "It is an imbalanced dataset problem so we can use SMOTE just to increase instances of minority classes in training dataset."
   ]
  },
  {
   "cell_type": "code",
   "execution_count": 10,
   "metadata": {},
   "outputs": [
    {
     "data": {
      "image/png": "[encoded data removed]",
      "text/plain": [
       "<Figure size 432x288 with 1 Axes>"
      ]
     },
     "metadata": {
      "needs_background": "light"
     },
     "output_type": "display_data"
    }
   ],
   "source": [
    "# Checking the count of loan status considering \"Self_Employed\"\n",
    "sns.countplot(x=\"Loan_Status\",hue=\"Self_Employed\",data=df)\n",
    "plt.show()"
   ]
  },
  {
   "cell_type": "markdown",
   "metadata": {},
   "source": [
    "Self-employed people get far less loans as compared to those who are not self-employed."
   ]
  },
  {
   "cell_type": "code",
   "execution_count": 11,
   "metadata": {},
   "outputs": [
    {
     "data": {
      "image/png": "[encoded data removed]",
      "text/plain": [
       "<Figure size 432x288 with 1 Axes>"
      ]
     },
     "metadata": {
      "needs_background": "light"
     },
     "output_type": "display_data"
    }
   ],
   "source": [
    "# Checking the count based on \"Education\"\n",
    "sns.countplot(x=\"Loan_Status\",hue=\"Education\",data=df)\n",
    "plt.show()"
   ]
  },
  {
   "cell_type": "markdown",
   "metadata": {},
   "source": [
    "Graduates have more tendency of getting loans than non-graduates."
   ]
  },
  {
   "cell_type": "code",
   "execution_count": 12,
   "metadata": {},
   "outputs": [
    {
     "data": {
      "image/png": "[encoded data removed]",
      "text/plain": [
       "<Figure size 432x288 with 1 Axes>"
      ]
     },
     "metadata": {
      "needs_background": "light"
     },
     "output_type": "display_data"
    }
   ],
   "source": [
    "# Checking loan status based on gender\n",
    "sns.countplot(x=\"Loan_Status\",hue=\"Gender\",data=df)\n",
    "plt.show()"
   ]
  },
  {
   "cell_type": "markdown",
   "metadata": {},
   "source": [
    "There are more number of males applying for the loans compared to females."
   ]
  },
  {
   "cell_type": "code",
   "execution_count": 13,
   "metadata": {},
   "outputs": [
    {
     "data": {
      "image/png": "[encoded data removed]",
      "text/plain": [
       "<Figure size 432x288 with 1 Axes>"
      ]
     },
     "metadata": {
      "needs_background": "light"
     },
     "output_type": "display_data"
    }
   ],
   "source": [
    "# Checking the loan status based on property area\n",
    "sns.countplot(x=\"Loan_Status\",hue=\"Property_Area\",data=df)\n",
    "plt.show()"
   ]
  },
  {
   "cell_type": "markdown",
   "metadata": {},
   "source": [
    "People having semi-urban property area take more loans than the others."
   ]
  },
  {
   "cell_type": "code",
   "execution_count": 14,
   "metadata": {},
   "outputs": [
    {
     "data": {
      "image/png": "[encoded data removed]",
      "text/plain": [
       "<Figure size 432x288 with 1 Axes>"
      ]
     },
     "metadata": {
      "needs_background": "light"
     },
     "output_type": "display_data"
    }
   ],
   "source": [
    "# Checking the count based on marital status\n",
    "sns.countplot(x=\"Married\",hue=\"Loan_Status\",data=df)\n",
    "plt.show()"
   ]
  },
  {
   "cell_type": "markdown",
   "metadata": {},
   "source": [
    "Ratio of people geting loans to not getting loans when they are married is high."
   ]
  },
  {
   "cell_type": "code",
   "execution_count": 15,
   "metadata": {},
   "outputs": [
    {
     "data": {
      "image/png": "[encoded data removed]",
      "text/plain": [
       "<Figure size 432x288 with 1 Axes>"
      ]
     },
     "metadata": {
      "needs_background": "light"
     },
     "output_type": "display_data"
    }
   ],
   "source": [
    "# Checking loan status for applicant income greater than 5000\n",
    "sns.countplot(x=\"Loan_Status\",data=df.loc[df[\"ApplicantIncome\"]>5000])\n",
    "plt.show()"
   ]
  },
  {
   "cell_type": "markdown",
   "metadata": {},
   "source": [
    "For applicant income greater than 5000, people whose loan was sanctioned are more than double of people whose loan was not sanctioned."
   ]
  },
  {
   "cell_type": "code",
   "execution_count": 16,
   "metadata": {},
   "outputs": [
    {
     "data": {
      "image/png": "[encoded data removed]",
      "text/plain": [
       "<Figure size 432x288 with 1 Axes>"
      ]
     },
     "metadata": {
      "needs_background": "light"
     },
     "output_type": "display_data"
    }
   ],
   "source": [
    "# Checking the effect on above count if co-applicant income is 0\n",
    "sns.countplot(x=\"Loan_Status\",data=df.loc[(df[\"ApplicantIncome\"]>5000)&(df[\"CoapplicantIncome\"]==0)])\n",
    "plt.show()"
   ]
  },
  {
   "cell_type": "markdown",
   "metadata": {},
   "source": [
    "Here, count has reduced but still ratio is almost same if coapplicant income is 0."
   ]
  },
  {
   "cell_type": "code",
   "execution_count": 18,
   "metadata": {},
   "outputs": [
    {
     "data": {
      "image/png": "[encoded data removed]",
      "text/plain": [
       "<Figure size 432x288 with 1 Axes>"
      ]
     },
     "metadata": {
      "needs_background": "light"
     },
     "output_type": "display_data"
    }
   ],
   "source": [
    "# Comparing the average loan amount between self-employed and those who are not self-employed\n",
    "sns.barplot(y=\"LoanAmount\",x=\"Self_Employed\",data=df)\n",
    "plt.show()"
   ]
  },
  {
   "cell_type": "markdown",
   "metadata": {},
   "source": [
    "Average loan amount demanded by the self-employed is more but there is not too much difference."
   ]
  },
  {
   "cell_type": "code",
   "execution_count": 19,
   "metadata": {},
   "outputs": [
    {
     "data": {
      "image/png": "[encoded data removed]",
      "text/plain": [
       "<Figure size 432x288 with 1 Axes>"
      ]
     },
     "metadata": {
      "needs_background": "light"
     },
     "output_type": "display_data"
    }
   ],
   "source": [
    "# Now comparing the average income of self employed\n",
    "sns.barplot(y=\"ApplicantIncome\",x=\"Self_Employed\",data=df)\n",
    "plt.show()"
   ]
  },
  {
   "cell_type": "markdown",
   "metadata": {},
   "source": [
    "Average income for self-employed is more."
   ]
  },
  {
   "cell_type": "code",
   "execution_count": 20,
   "metadata": {},
   "outputs": [
    {
     "data": {
      "image/png": "[encoded data removed]",
      "text/plain": [
       "<Figure size 432x288 with 1 Axes>"
      ]
     },
     "metadata": {
      "needs_background": "light"
     },
     "output_type": "display_data"
    }
   ],
   "source": [
    "# Comparing the count of self employed people who got loans and who did not get loans\n",
    "sns.countplot(x=\"Loan_Status\",data=df.loc[df[\"Self_Employed\"]==\"Yes\"])\n",
    "plt.show()"
   ]
  },
  {
   "cell_type": "markdown",
   "metadata": {},
   "source": [
    "There are more than double number of self-employed who got loan. It may be due to their high income."
   ]
  },
  {
   "cell_type": "code",
   "execution_count": 21,
   "metadata": {},
   "outputs": [
    {
     "data": {
      "image/png": "[encoded data removed]",
      "text/plain": [
       "<Figure size 432x288 with 1 Axes>"
      ]
     },
     "metadata": {
      "needs_background": "light"
     },
     "output_type": "display_data"
    }
   ],
   "source": [
    "# Now comparing the average income of people who got loan and who did not,given they are self employed.\n",
    "# Checking for applicant's income for self employed and their loan status\n",
    "sns.barplot(y=\"ApplicantIncome\",x=\"Loan_Status\",data=df.loc[df[\"Self_Employed\"]==\"Yes\"])\n",
    "plt.show()"
   ]
  },
  {
   "cell_type": "markdown",
   "metadata": {},
   "source": [
    "So self-employed people who got loan have average income more as observed in previous result."
   ]
  },
  {
   "cell_type": "code",
   "execution_count": 22,
   "metadata": {},
   "outputs": [
    {
     "data": {
      "image/png": "[encoded data removed]",
      "text/plain": [
       "<Figure size 432x288 with 1 Axes>"
      ]
     },
     "metadata": {
      "needs_background": "light"
     },
     "output_type": "display_data"
    }
   ],
   "source": [
    "# Checking for average applicant income as per Dependents\n",
    "sns.barplot(y=\"ApplicantIncome\",x=\"Dependents\",data=df)\n",
    "plt.show()"
   ]
  },
  {
   "cell_type": "markdown",
   "metadata": {},
   "source": [
    "Average income of people with 2 dependents is less than those with 1 dependent. However, those with more than 3 dependents, the income is high. It may be due to very high income of those people or they have other earning members."
   ]
  },
  {
   "cell_type": "code",
   "execution_count": 23,
   "metadata": {},
   "outputs": [
    {
     "data": {
      "image/png": "[encoded data removed]",
      "text/plain": [
       "<Figure size 432x288 with 1 Axes>"
      ]
     },
     "metadata": {
      "needs_background": "light"
     },
     "output_type": "display_data"
    }
   ],
   "source": [
    "# Checking the average loan amount as per dependents\n",
    "sns.barplot(y=\"LoanAmount\",x=\"Dependents\",data=df)\n",
    "plt.show()"
   ]
  },
  {
   "cell_type": "markdown",
   "metadata": {},
   "source": [
    "Also, average loan amount by person with dependents more than 3 is highest which further supports our previous conclusion."
   ]
  },
  {
   "cell_type": "code",
   "execution_count": 24,
   "metadata": {},
   "outputs": [
    {
     "data": {
      "text/plain": [
       "<AxesSubplot:xlabel='Loan_Amount_Term', ylabel='LoanAmount'>"
      ]
     },
     "execution_count": 24,
     "metadata": {},
     "output_type": "execute_result"
    },
    {
     "data": {
      "image/png": "[encoded data removed]",
      "text/plain": [
       "<Figure size 864x720 with 1 Axes>"
      ]
     },
     "metadata": {
      "needs_background": "light"
     },
     "output_type": "display_data"
    }
   ],
   "source": [
    "#Average loan amount requested grouped by Loan_Amount_Term\n",
    "plt.figure(figsize=(12,10))\n",
    "sns.barplot(x=\"Loan_Amount_Term\",y=\"LoanAmount\",data=df)"
   ]
  },
  {
   "cell_type": "code",
   "execution_count": 25,
   "metadata": {},
   "outputs": [
    {
     "data": {
      "text/plain": [
       "Gender               13\n",
       "Married               3\n",
       "Dependents           15\n",
       "Education             0\n",
       "Self_Employed        32\n",
       "ApplicantIncome       0\n",
       "CoapplicantIncome     0\n",
       "LoanAmount           22\n",
       "Loan_Amount_Term     14\n",
       "Credit_History       50\n",
       "Property_Area         0\n",
       "Loan_Status           0\n",
       "dtype: int64"
      ]
     },
     "execution_count": 25,
     "metadata": {},
     "output_type": "execute_result"
    }
   ],
   "source": [
    "# Checking the null values\n",
    "df.isnull().sum()"
   ]
  },
  {
   "cell_type": "code",
   "execution_count": 26,
   "metadata": {},
   "outputs": [
    {
     "name": "stdout",
     "output_type": "stream",
     "text": [
      "<class 'pandas.core.frame.DataFrame'>\n",
      "RangeIndex: 614 entries, 0 to 613\n",
      "Data columns (total 12 columns):\n",
      " #   Column             Non-Null Count  Dtype  \n",
      "---  ------             --------------  -----  \n",
      " 0   Gender             601 non-null    object \n",
      " 1   Married            611 non-null    object \n",
      " 2   Dependents         599 non-null    object \n",
      " 3   Education          614 non-null    object \n",
      " 4   Self_Employed      582 non-null    object \n",
      " 5   ApplicantIncome    614 non-null    int64  \n",
      " 6   CoapplicantIncome  614 non-null    float64\n",
      " 7   LoanAmount         592 non-null    float64\n",
      " 8   Loan_Amount_Term   600 non-null    float64\n",
      " 9   Credit_History     564 non-null    float64\n",
      " 10  Property_Area      614 non-null    object \n",
      " 11  Loan_Status        614 non-null    object \n",
      "dtypes: float64(4), int64(1), object(7)\n",
      "memory usage: 57.7+ KB\n"
     ]
    }
   ],
   "source": [
    "df.info()"
   ]
  },
  {
   "cell_type": "code",
   "execution_count": 27,
   "metadata": {},
   "outputs": [],
   "source": [
    "# Now treating null values by imputing\n",
    "# Imputing the object datatype columns by mode grouped by same target class\n",
    "for col in df.columns:\n",
    "    if df[col].dtypes==\"object\" and df[col].isnull().sum()>0:\n",
    "        df.loc[df[\"Loan_Status\"]==\"Y\",[col]]=df.loc[df[\"Loan_Status\"]==\"Y\",[col]].fillna(df.loc[df[\"Loan_Status\"]==\"Y\",[col]].mode().iloc[0])\n",
    "        df.loc[df[\"Loan_Status\"]==\"N\",[col]]=df.loc[df[\"Loan_Status\"]==\"N\",[col]].fillna(df.loc[df[\"Loan_Status\"]==\"N\",[col]].mode().iloc[0])"
   ]
  },
  {
   "cell_type": "code",
   "execution_count": 28,
   "metadata": {},
   "outputs": [
    {
     "data": {
      "text/plain": [
       "Gender                0\n",
       "Married               0\n",
       "Dependents            0\n",
       "Education             0\n",
       "Self_Employed         0\n",
       "ApplicantIncome       0\n",
       "CoapplicantIncome     0\n",
       "LoanAmount           22\n",
       "Loan_Amount_Term     14\n",
       "Credit_History       50\n",
       "Property_Area         0\n",
       "Loan_Status           0\n",
       "dtype: int64"
      ]
     },
     "execution_count": 28,
     "metadata": {},
     "output_type": "execute_result"
    }
   ],
   "source": [
    "# Checking for null values again\n",
    "df.isnull().sum()"
   ]
  },
  {
   "cell_type": "markdown",
   "metadata": {},
   "source": [
    "The object datatype columns do not contain null values now."
   ]
  },
  {
   "cell_type": "code",
   "execution_count": 29,
   "metadata": {},
   "outputs": [],
   "source": [
    "# Now working on null values of float datatype columns \n",
    "# Loan amount can be imputed by mean grouped by classes\n",
    "df.loc[df[\"Loan_Status\"]==\"Y\",[\"LoanAmount\"]]=df.loc[df[\"Loan_Status\"]==\"Y\",[\"LoanAmount\"]].fillna(df.loc[df[\"Loan_Status\"]==\"Y\",[\"LoanAmount\"]].mean())\n",
    "df.loc[df[\"Loan_Status\"]==\"N\",[\"LoanAmount\"]]=df.loc[df[\"Loan_Status\"]==\"N\",[\"LoanAmount\"]].fillna(df.loc[df[\"Loan_Status\"]==\"N\",[\"LoanAmount\"]].mean())"
   ]
  },
  {
   "cell_type": "code",
   "execution_count": 30,
   "metadata": {},
   "outputs": [
    {
     "data": {
      "text/plain": [
       "Gender                0\n",
       "Married               0\n",
       "Dependents            0\n",
       "Education             0\n",
       "Self_Employed         0\n",
       "ApplicantIncome       0\n",
       "CoapplicantIncome     0\n",
       "LoanAmount            0\n",
       "Loan_Amount_Term     14\n",
       "Credit_History       50\n",
       "Property_Area         0\n",
       "Loan_Status           0\n",
       "dtype: int64"
      ]
     },
     "execution_count": 30,
     "metadata": {},
     "output_type": "execute_result"
    }
   ],
   "source": [
    "#Checking Null values again\n",
    "df.isnull().sum()"
   ]
  },
  {
   "cell_type": "code",
   "execution_count": 31,
   "metadata": {},
   "outputs": [],
   "source": [
    "# Imputing Loan_Amount_Term column with mean grouped by classes\n",
    "df.loc[df[\"Loan_Status\"]==\"Y\",[\"Loan_Amount_Term\"]]=df.loc[df[\"Loan_Status\"]==\"Y\",[\"Loan_Amount_Term\"]].fillna(df.loc[df[\"Loan_Status\"]==\"Y\",[\"Loan_Amount_Term\"]].mean())\n",
    "df.loc[df[\"Loan_Status\"]==\"N\",[\"Loan_Amount_Term\"]]=df.loc[df[\"Loan_Status\"]==\"N\",[\"Loan_Amount_Term\"]].fillna(df.loc[df[\"Loan_Status\"]==\"N\",[\"Loan_Amount_Term\"]].mean())"
   ]
  },
  {
   "cell_type": "code",
   "execution_count": 32,
   "metadata": {},
   "outputs": [],
   "source": [
    "# Imputing Credit_History column with mode as it contains only 2 values- 0.0 and 1.0\n",
    "df.loc[df[\"Loan_Status\"]==\"Y\",[\"Credit_History\"]]=df.loc[df[\"Loan_Status\"]==\"Y\",[\"Credit_History\"]].fillna(df.loc[df[\"Loan_Status\"]==\"Y\",[\"Credit_History\"]].mode().iloc(0))\n",
    "df.loc[df[\"Loan_Status\"]==\"N\",[\"Credit_History\"]]=df.loc[df[\"Loan_Status\"]==\"N\",[\"Credit_History\"]].fillna(df.loc[df[\"Loan_Status\"]==\"N\",[\"Credit_History\"]].mode().iloc())"
   ]
  },
  {
   "cell_type": "code",
   "execution_count": 33,
   "metadata": {},
   "outputs": [
    {
     "data": {
      "text/plain": [
       "Gender               0\n",
       "Married              0\n",
       "Dependents           0\n",
       "Education            0\n",
       "Self_Employed        0\n",
       "ApplicantIncome      0\n",
       "CoapplicantIncome    0\n",
       "LoanAmount           0\n",
       "Loan_Amount_Term     0\n",
       "Credit_History       0\n",
       "Property_Area        0\n",
       "Loan_Status          0\n",
       "dtype: int64"
      ]
     },
     "execution_count": 33,
     "metadata": {},
     "output_type": "execute_result"
    }
   ],
   "source": [
    "# Again checking null values after imputing them\n",
    "df.isnull().sum()"
   ]
  },
  {
   "cell_type": "code",
   "execution_count": 34,
   "metadata": {},
   "outputs": [
    {
     "data": {
      "text/plain": [
       "ApplicantIncome      6.539513\n",
       "CoapplicantIncome    7.491531\n",
       "LoanAmount           2.724592\n",
       "Loan_Amount_Term    -2.390012\n",
       "dtype: float64"
      ]
     },
     "execution_count": 34,
     "metadata": {},
     "output_type": "execute_result"
    }
   ],
   "source": [
    "# Checking the skewness of the dataset\n",
    "df.skew()"
   ]
  },
  {
   "cell_type": "markdown",
   "metadata": {},
   "source": [
    "Above columns are highly skewed due to presence of outliers, so they need to be treated for skewness."
   ]
  },
  {
   "cell_type": "code",
   "execution_count": 35,
   "metadata": {},
   "outputs": [],
   "source": [
    "# Dividing the dataset into input and output\n",
    "df_x=df.drop(columns=[\"Loan_Status\"])\n",
    "y=df[[\"Loan_Status\"]]"
   ]
  },
  {
   "cell_type": "code",
   "execution_count": 36,
   "metadata": {},
   "outputs": [],
   "source": [
    "# Removing skewness with log transformation method\n",
    "for index in df_x.skew().index:\n",
    "    if df_x.skew().loc[index]>0.5:\n",
    "        df_x[index]=np.log1p(df_x[index])"
   ]
  },
  {
   "cell_type": "code",
   "execution_count": 37,
   "metadata": {},
   "outputs": [
    {
     "data": {
      "text/plain": [
       "ApplicantIncome      0.482128\n",
       "CoapplicantIncome   -0.173073\n",
       "LoanAmount          -0.181343\n",
       "Loan_Amount_Term    -2.390012\n",
       "dtype: float64"
      ]
     },
     "execution_count": 37,
     "metadata": {},
     "output_type": "execute_result"
    }
   ],
   "source": [
    "# Again checking the skewness\n",
    "df_x.skew()"
   ]
  },
  {
   "cell_type": "markdown",
   "metadata": {},
   "source": [
    "Now the skewness is significantly removed from these columns."
   ]
  },
  {
   "cell_type": "code",
   "execution_count": 38,
   "metadata": {},
   "outputs": [
    {
     "data": {
      "text/plain": [
       "Gender                object\n",
       "Married               object\n",
       "Dependents            object\n",
       "Education             object\n",
       "Self_Employed         object\n",
       "ApplicantIncome      float64\n",
       "CoapplicantIncome    float64\n",
       "LoanAmount           float64\n",
       "Loan_Amount_Term     float64\n",
       "Credit_History        object\n",
       "Property_Area         object\n",
       "dtype: object"
      ]
     },
     "execution_count": 38,
     "metadata": {},
     "output_type": "execute_result"
    }
   ],
   "source": [
    "# Checking the datatypes in input dataset\n",
    "df_x.dtypes"
   ]
  },
  {
   "cell_type": "code",
   "execution_count": 39,
   "metadata": {},
   "outputs": [],
   "source": [
    "# Using one-hot encoding for features dataset\n",
    "df_x=pd.get_dummies(df_x,drop_first=True)"
   ]
  },
  {
   "cell_type": "code",
   "execution_count": 40,
   "metadata": {},
   "outputs": [
    {
     "data": {
      "text/plain": [
       "(614, 16)"
      ]
     },
     "execution_count": 40,
     "metadata": {},
     "output_type": "execute_result"
    }
   ],
   "source": [
    "# Checking the shape\n",
    "df_x.shape"
   ]
  },
  {
   "cell_type": "code",
   "execution_count": 41,
   "metadata": {},
   "outputs": [
    {
     "data": {
      "text/plain": [
       "(614, 1)"
      ]
     },
     "execution_count": 41,
     "metadata": {},
     "output_type": "execute_result"
    }
   ],
   "source": [
    "y.shape"
   ]
  },
  {
   "cell_type": "code",
   "execution_count": 42,
   "metadata": {},
   "outputs": [],
   "source": [
    "# Bringing all features to a common scale using StandardScaler\n",
    "from sklearn.preprocessing import StandardScaler\n",
    "sc=StandardScaler()\n",
    "sc.fit(df_x)\n",
    "x=sc.transform(df_x)\n",
    "x=pd.DataFrame(x,columns=df_x.columns)"
   ]
  },
  {
   "cell_type": "code",
   "execution_count": 43,
   "metadata": {},
   "outputs": [
    {
     "data": {
      "text/plain": [
       "array([1, 0, 1, 1, 1, 1, 1, 0, 1, 0, 1, 1, 1, 0, 1, 1, 1, 0, 0, 1, 0, 1,\n",
       "       0, 0, 0, 1, 1, 1, 0, 1, 0, 0, 0, 1, 0, 1, 0, 1, 1, 1, 0, 1, 1, 1,\n",
       "       1, 1, 1, 1, 0, 1, 1, 1, 0, 0, 0, 1, 1, 0, 1, 1, 1, 1, 0, 0, 0, 0,\n",
       "       0, 1, 1, 0, 1, 1, 1, 0, 1, 0, 0, 0, 0, 1, 1, 1, 0, 0, 1, 1, 1, 1,\n",
       "       1, 1, 1, 1, 1, 1, 1, 0, 1, 1, 1, 1, 1, 1, 1, 1, 1, 1, 1, 0, 0, 1,\n",
       "       1, 1, 0, 1, 1, 1, 1, 1, 0, 1, 1, 1, 1, 1, 1, 1, 1, 1, 0, 0, 1, 1,\n",
       "       1, 1, 1, 0, 0, 1, 0, 0, 0, 1, 1, 1, 1, 1, 1, 1, 0, 1, 0, 1, 0, 0,\n",
       "       1, 1, 1, 1, 1, 1, 1, 0, 0, 1, 1, 1, 0, 1, 0, 1, 1, 1, 0, 1, 0, 1,\n",
       "       1, 0, 1, 0, 0, 0, 1, 0, 1, 1, 0, 1, 1, 1, 1, 0, 0, 1, 1, 0, 1, 1,\n",
       "       1, 0, 1, 1, 0, 1, 1, 1, 1, 1, 1, 0, 0, 0, 1, 1, 1, 1, 0, 1, 0, 1,\n",
       "       0, 1, 1, 1, 1, 0, 0, 1, 1, 1, 1, 1, 1, 1, 1, 1, 0, 1, 1, 1, 1, 0,\n",
       "       1, 1, 1, 0, 1, 1, 1, 1, 0, 0, 1, 1, 0, 1, 0, 0, 0, 0, 1, 1, 0, 1,\n",
       "       1, 1, 1, 1, 0, 1, 1, 1, 1, 1, 1, 1, 1, 1, 1, 1, 0, 1, 1, 1, 0, 1,\n",
       "       0, 1, 1, 1, 1, 0, 1, 0, 1, 1, 1, 1, 0, 0, 0, 1, 1, 1, 1, 0, 1, 0,\n",
       "       0, 1, 1, 1, 1, 1, 0, 1, 1, 1, 1, 0, 1, 1, 1, 1, 1, 0, 1, 1, 0, 1,\n",
       "       1, 1, 1, 1, 1, 1, 1, 1, 0, 1, 0, 0, 1, 1, 1, 1, 0, 1, 1, 1, 1, 0,\n",
       "       1, 0, 1, 1, 1, 0, 0, 1, 0, 1, 1, 1, 1, 0, 0, 0, 1, 0, 1, 1, 1, 0,\n",
       "       1, 1, 1, 1, 0, 1, 1, 1, 1, 1, 0, 1, 1, 0, 1, 1, 1, 1, 1, 1, 1, 1,\n",
       "       0, 1, 1, 0, 0, 0, 1, 1, 0, 1, 1, 1, 0, 0, 0, 1, 0, 1, 0, 1, 0, 0,\n",
       "       1, 1, 1, 0, 1, 0, 1, 1, 0, 1, 1, 1, 1, 0, 1, 1, 1, 1, 1, 1, 0, 1,\n",
       "       1, 1, 1, 1, 1, 1, 1, 0, 0, 0, 0, 1, 0, 1, 1, 1, 1, 0, 1, 0, 1, 1,\n",
       "       1, 1, 0, 1, 0, 1, 1, 0, 1, 0, 1, 1, 1, 1, 1, 0, 1, 0, 1, 1, 1, 1,\n",
       "       1, 1, 0, 0, 1, 0, 1, 1, 1, 1, 0, 1, 1, 1, 1, 0, 1, 1, 1, 0, 1, 1,\n",
       "       1, 0, 1, 1, 0, 1, 1, 0, 0, 1, 1, 0, 0, 0, 1, 1, 1, 1, 0, 1, 1, 1,\n",
       "       1, 1, 1, 1, 0, 0, 1, 1, 1, 1, 0, 1, 1, 0, 1, 1, 1, 1, 0, 1, 0, 1,\n",
       "       0, 1, 1, 0, 0, 1, 1, 1, 1, 1, 1, 1, 1, 1, 0, 1, 1, 0, 0, 0, 1, 0,\n",
       "       1, 0, 0, 1, 0, 1, 1, 1, 1, 0, 1, 0, 0, 0, 1, 1, 1, 0, 1, 0, 1, 1,\n",
       "       1, 1, 0, 0, 1, 1, 0, 1, 1, 1, 1, 0, 1, 1, 1, 1, 1, 1, 1, 0])"
      ]
     },
     "execution_count": 43,
     "metadata": {},
     "output_type": "execute_result"
    }
   ],
   "source": [
    "# Using LabelEncoder to convert target class into integers\n",
    "from sklearn.preprocessing import LabelEncoder\n",
    "le=LabelEncoder()\n",
    "le.fit(y)\n",
    "y=le.transform(y)\n",
    "y"
   ]
  },
  {
   "cell_type": "code",
   "execution_count": 44,
   "metadata": {},
   "outputs": [],
   "source": [
    "# Since it is imbalanced dataset so we will focus on auc-roc score\n",
    "from imblearn.over_sampling import SMOTE\n",
    "from sklearn.metrics import roc_auc_score\n",
    "from sklearn.model_selection import train_test_split\n",
    "def max_aucroc_score(clf,df_x,y):\n",
    "    max_aucroc_score=0\n",
    "    for r_state in range(42,100):\n",
    "        x_train, x_test, y_train, y_test = train_test_split(df_x, y,random_state = r_state,test_size=0.20,stratify=y)\n",
    "        x_train, y_train = SMOTE().fit_sample(x_train, y_train)\n",
    "        clf.fit(x_train,y_train)\n",
    "        y_pred = clf.predict(x_test)\n",
    "        aucroc_scr=roc_auc_score(y_test,y_pred)\n",
    "        print(\"auc roc score corresponding to \",r_state,\" is \",aucroc_scr)\n",
    "        if aucroc_scr>max_aucroc_score:\n",
    "            max_aucroc_score=aucroc_scr\n",
    "            final_r_state=r_state\n",
    "    print(\"max auc roc score corresponding to \",final_r_state,\" is \",max_aucroc_score)\n",
    "    return final_r_state"
   ]
  },
  {
   "cell_type": "code",
   "execution_count": 45,
   "metadata": {},
   "outputs": [
    {
     "name": "stdout",
     "output_type": "stream",
     "text": [
      "auc roc score corresponding to  42  is  0.7701238390092879\n",
      "auc roc score corresponding to  43  is  0.774613003095975\n",
      "auc roc score corresponding to  44  is  0.7188854489164087\n",
      "auc roc score corresponding to  45  is  0.7628482972136222\n",
      "auc roc score corresponding to  46  is  0.7410216718266254\n",
      "auc roc score corresponding to  47  is  0.7085139318885448\n",
      "auc roc score corresponding to  48  is  0.7057275541795665\n",
      "auc roc score corresponding to  49  is  0.7639318885448916\n",
      "auc roc score corresponding to  50  is  0.7715170278637771\n",
      "auc roc score corresponding to  51  is  0.7362229102167182\n",
      "auc roc score corresponding to  52  is  0.7054179566563468\n",
      "auc roc score corresponding to  53  is  0.7597523219814242\n",
      "auc roc score corresponding to  54  is  0.7337461300309599\n",
      "auc roc score corresponding to  55  is  0.7891640866873064\n",
      "auc roc score corresponding to  56  is  0.6444272445820434\n",
      "auc roc score corresponding to  57  is  0.7365325077399381\n",
      "auc roc score corresponding to  58  is  0.6794117647058824\n",
      "auc roc score corresponding to  59  is  0.6894736842105263\n",
      "auc roc score corresponding to  60  is  0.6995356037151703\n",
      "auc roc score corresponding to  61  is  0.6354489164086687\n",
      "auc roc score corresponding to  62  is  0.7393188854489163\n",
      "auc roc score corresponding to  63  is  0.7379256965944272\n",
      "auc roc score corresponding to  64  is  0.7365325077399381\n",
      "auc roc score corresponding to  65  is  0.7130030959752323\n",
      "auc roc score corresponding to  66  is  0.7407120743034056\n",
      "auc roc score corresponding to  67  is  0.7247678018575852\n",
      "auc roc score corresponding to  68  is  0.7012383900928792\n",
      "auc roc score corresponding to  69  is  0.7393188854489163\n",
      "auc roc score corresponding to  70  is  0.7157894736842105\n",
      "auc roc score corresponding to  71  is  0.6998452012383901\n",
      "auc roc score corresponding to  72  is  0.7701238390092879\n",
      "auc roc score corresponding to  73  is  0.7143962848297213\n",
      "auc roc score corresponding to  74  is  0.7143962848297213\n",
      "auc roc score corresponding to  75  is  0.7130030959752323\n",
      "auc roc score corresponding to  76  is  0.7434984520123838\n",
      "auc roc score corresponding to  77  is  0.8095975232198143\n",
      "auc roc score corresponding to  78  is  0.7116099071207429\n",
      "auc roc score corresponding to  79  is  0.7541795665634675\n",
      "auc roc score corresponding to  80  is  0.7230650154798761\n",
      "auc roc score corresponding to  81  is  0.7496904024767802\n",
      "auc roc score corresponding to  82  is  0.6749226006191951\n",
      "auc roc score corresponding to  83  is  0.7479876160990713\n",
      "auc roc score corresponding to  84  is  0.7348297213622291\n",
      "auc roc score corresponding to  85  is  0.6953560371517027\n",
      "auc roc score corresponding to  86  is  0.7611455108359133\n",
      "auc roc score corresponding to  87  is  0.6441176470588235\n",
      "auc roc score corresponding to  88  is  0.7787925696594427\n",
      "auc roc score corresponding to  89  is  0.6939628482972137\n",
      "auc roc score corresponding to  90  is  0.723374613003096\n",
      "auc roc score corresponding to  91  is  0.7275541795665634\n",
      "auc roc score corresponding to  92  is  0.7421052631578948\n",
      "auc roc score corresponding to  93  is  0.7113003095975232\n",
      "auc roc score corresponding to  94  is  0.7057275541795665\n",
      "auc roc score corresponding to  95  is  0.7130030959752323\n",
      "auc roc score corresponding to  96  is  0.7569659442724458\n",
      "auc roc score corresponding to  97  is  0.6617647058823529\n",
      "auc roc score corresponding to  98  is  0.6763157894736842\n",
      "auc roc score corresponding to  99  is  0.7905572755417957\n",
      "max auc roc score corresponding to  77  is  0.8095975232198143\n"
     ]
    },
    {
     "data": {
      "text/plain": [
       "77"
      ]
     },
     "execution_count": 45,
     "metadata": {},
     "output_type": "execute_result"
    }
   ],
   "source": [
    "# Using logistic regression and check\n",
    "from sklearn.linear_model import LogisticRegression\n",
    "lg_clf=LogisticRegression()\n",
    "max_aucroc_score(lg_clf,x,y)"
   ]
  },
  {
   "cell_type": "code",
   "execution_count": 46,
   "metadata": {},
   "outputs": [
    {
     "name": "stdout",
     "output_type": "stream",
     "text": [
      "auc roc score corresponding to  42  is  0.6673374613003096\n",
      "auc roc score corresponding to  43  is  0.6572755417956657\n",
      "auc roc score corresponding to  44  is  0.6365325077399381\n",
      "auc roc score corresponding to  45  is  0.6835913312693498\n",
      "auc roc score corresponding to  46  is  0.6922600619195046\n",
      "auc roc score corresponding to  47  is  0.6160990712074305\n",
      "auc roc score corresponding to  48  is  0.6205882352941177\n",
      "auc roc score corresponding to  49  is  0.6791021671826625\n",
      "auc roc score corresponding to  50  is  0.6746130030959752\n",
      "auc roc score corresponding to  51  is  0.681888544891641\n",
      "auc roc score corresponding to  52  is  0.6174922600619195\n",
      "auc roc score corresponding to  53  is  0.7157894736842105\n",
      "auc roc score corresponding to  54  is  0.6424148606811146\n",
      "auc roc score corresponding to  55  is  0.6452012383900928\n",
      "auc roc score corresponding to  56  is  0.6908668730650155\n",
      "auc roc score corresponding to  57  is  0.6718266253869969\n",
      "auc roc score corresponding to  58  is  0.6735294117647059\n",
      "auc roc score corresponding to  59  is  0.6074303405572756\n",
      "auc roc score corresponding to  60  is  0.6455108359133127\n",
      "auc roc score corresponding to  61  is  0.6513931888544893\n",
      "auc roc score corresponding to  62  is  0.6718266253869969\n",
      "auc roc score corresponding to  63  is  0.7113003095975232\n",
      "auc roc score corresponding to  64  is  0.7743034055727555\n",
      "auc roc score corresponding to  65  is  0.7348297213622291\n",
      "auc roc score corresponding to  66  is  0.6334365325077399\n",
      "auc roc score corresponding to  67  is  0.6628482972136223\n",
      "auc roc score corresponding to  68  is  0.6704334365325076\n",
      "auc roc score corresponding to  69  is  0.695046439628483\n",
      "auc roc score corresponding to  70  is  0.6102167182662539\n",
      "auc roc score corresponding to  71  is  0.5970588235294118\n",
      "auc roc score corresponding to  72  is  0.7213622291021673\n",
      "auc roc score corresponding to  73  is  0.6482972136222911\n",
      "auc roc score corresponding to  74  is  0.6967492260061919\n",
      "auc roc score corresponding to  75  is  0.7009287925696595\n",
      "auc roc score corresponding to  76  is  0.7054179566563468\n",
      "auc roc score corresponding to  77  is  0.6555727554179567\n",
      "auc roc score corresponding to  78  is  0.7113003095975232\n",
      "auc roc score corresponding to  79  is  0.6410216718266253\n",
      "auc roc score corresponding to  80  is  0.6849845201238389\n",
      "auc roc score corresponding to  81  is  0.6510835913312693\n",
      "auc roc score corresponding to  82  is  0.7040247678018576\n",
      "auc roc score corresponding to  83  is  0.6877708978328174\n",
      "auc roc score corresponding to  84  is  0.6233746130030959\n",
      "auc roc score corresponding to  85  is  0.6760061919504644\n",
      "auc roc score corresponding to  86  is  0.6936532507739939\n",
      "auc roc score corresponding to  87  is  0.6732198142414861\n",
      "auc roc score corresponding to  88  is  0.7286377708978329\n",
      "auc roc score corresponding to  89  is  0.7040247678018576\n",
      "auc roc score corresponding to  90  is  0.7171826625386997\n",
      "auc roc score corresponding to  91  is  0.6995356037151703\n",
      "auc roc score corresponding to  92  is  0.6292569659442725\n",
      "auc roc score corresponding to  93  is  0.6586687306501546\n",
      "auc roc score corresponding to  94  is  0.6130030959752322\n",
      "auc roc score corresponding to  95  is  0.6469040247678018\n",
      "auc roc score corresponding to  96  is  0.6746130030959752\n",
      "auc roc score corresponding to  97  is  0.6527863777089783\n",
      "auc roc score corresponding to  98  is  0.6396284829721363\n",
      "auc roc score corresponding to  99  is  0.7272445820433437\n",
      "max auc roc score corresponding to  64  is  0.7743034055727555\n"
     ]
    },
    {
     "data": {
      "text/plain": [
       "64"
      ]
     },
     "execution_count": 46,
     "metadata": {},
     "output_type": "execute_result"
    }
   ],
   "source": [
    "# Checking with Decision tree\n",
    "from sklearn.tree import DecisionTreeClassifier\n",
    "dc=DecisionTreeClassifier()\n",
    "max_aucroc_score(dc,df_x,y)"
   ]
  },
  {
   "cell_type": "code",
   "execution_count": 47,
   "metadata": {},
   "outputs": [
    {
     "data": {
      "text/plain": [
       "{'n_estimators': 500}"
      ]
     },
     "execution_count": 47,
     "metadata": {},
     "output_type": "execute_result"
    }
   ],
   "source": [
    "# Using Random Forest\n",
    "from sklearn.ensemble import RandomForestClassifier\n",
    "from sklearn.model_selection import GridSearchCV\n",
    "parameters={\"n_estimators\":[10,100,500]}\n",
    "rf_clf=RandomForestClassifier()\n",
    "clf = GridSearchCV(rf_clf, parameters, cv=5,scoring=\"roc_auc\")\n",
    "clf.fit(df_x,y)\n",
    "clf.best_params_"
   ]
  },
  {
   "cell_type": "code",
   "execution_count": 48,
   "metadata": {},
   "outputs": [
    {
     "name": "stdout",
     "output_type": "stream",
     "text": [
      "auc roc score corresponding to  42  is  0.7538699690402476\n",
      "auc roc score corresponding to  43  is  0.7715170278637771\n",
      "auc roc score corresponding to  44  is  0.6894736842105263\n",
      "auc roc score corresponding to  45  is  0.7247678018575852\n",
      "auc roc score corresponding to  46  is  0.7452012383900928\n",
      "auc roc score corresponding to  47  is  0.7012383900928792\n",
      "auc roc score corresponding to  48  is  0.6866873065015481\n",
      "auc roc score corresponding to  49  is  0.7905572755417957\n",
      "auc roc score corresponding to  50  is  0.7071207430340558\n",
      "auc roc score corresponding to  51  is  0.780185758513932\n",
      "auc roc score corresponding to  52  is  0.6791021671826625\n",
      "auc roc score corresponding to  53  is  0.7642414860681115\n",
      "auc roc score corresponding to  54  is  0.7452012383900928\n",
      "auc roc score corresponding to  55  is  0.7670278637770898\n",
      "auc roc score corresponding to  56  is  0.6821981424148607\n",
      "auc roc score corresponding to  57  is  0.7510835913312693\n",
      "auc roc score corresponding to  58  is  0.6780185758513932\n",
      "auc roc score corresponding to  59  is  0.6821981424148607\n",
      "auc roc score corresponding to  60  is  0.7185758513931888\n",
      "auc roc score corresponding to  61  is  0.6617647058823529\n",
      "auc roc score corresponding to  62  is  0.7701238390092879\n",
      "auc roc score corresponding to  63  is  0.7085139318885448\n",
      "auc roc score corresponding to  64  is  0.7760061919504644\n",
      "auc roc score corresponding to  65  is  0.7171826625386997\n",
      "auc roc score corresponding to  66  is  0.7407120743034056\n",
      "auc roc score corresponding to  67  is  0.721671826625387\n",
      "auc roc score corresponding to  68  is  0.6953560371517027\n",
      "auc roc score corresponding to  69  is  0.7479876160990713\n",
      "auc roc score corresponding to  70  is  0.7331269349845202\n",
      "auc roc score corresponding to  71  is  0.7130030959752323\n",
      "auc roc score corresponding to  72  is  0.7407120743034056\n",
      "auc roc score corresponding to  73  is  0.7130030959752323\n",
      "auc roc score corresponding to  74  is  0.6558823529411765\n",
      "auc roc score corresponding to  75  is  0.7348297213622291\n",
      "auc roc score corresponding to  76  is  0.7639318885448916\n",
      "auc roc score corresponding to  77  is  0.7407120743034056\n",
      "auc roc score corresponding to  78  is  0.7143962848297213\n",
      "auc roc score corresponding to  79  is  0.7130030959752323\n",
      "auc roc score corresponding to  80  is  0.6791021671826625\n",
      "auc roc score corresponding to  81  is  0.7202786377708978\n",
      "auc roc score corresponding to  82  is  0.7877708978328173\n",
      "auc roc score corresponding to  83  is  0.7171826625386997\n",
      "auc roc score corresponding to  84  is  0.7012383900928792\n",
      "auc roc score corresponding to  85  is  0.6718266253869969\n",
      "auc roc score corresponding to  86  is  0.7538699690402476\n",
      "auc roc score corresponding to  87  is  0.664860681114551\n",
      "auc roc score corresponding to  88  is  0.7787925696594427\n",
      "auc roc score corresponding to  89  is  0.7701238390092879\n",
      "auc roc score corresponding to  90  is  0.6749226006191951\n",
      "auc roc score corresponding to  91  is  0.7362229102167182\n",
      "auc roc score corresponding to  92  is  0.7185758513931888\n",
      "auc roc score corresponding to  93  is  0.6953560371517027\n",
      "auc roc score corresponding to  94  is  0.698452012383901\n",
      "auc roc score corresponding to  95  is  0.7143962848297213\n",
      "auc roc score corresponding to  96  is  0.7760061919504644\n",
      "auc roc score corresponding to  97  is  0.6676470588235295\n",
      "auc roc score corresponding to  98  is  0.6821981424148607\n",
      "auc roc score corresponding to  99  is  0.7787925696594427\n",
      "max auc roc score corresponding to  49  is  0.7905572755417957\n"
     ]
    },
    {
     "data": {
      "text/plain": [
       "49"
      ]
     },
     "execution_count": 48,
     "metadata": {},
     "output_type": "execute_result"
    }
   ],
   "source": [
    "rf_clf=RandomForestClassifier(n_estimators=500)\n",
    "max_aucroc_score(rf_clf,df_x,y)"
   ]
  },
  {
   "cell_type": "code",
   "execution_count": 49,
   "metadata": {},
   "outputs": [
    {
     "data": {
      "text/plain": [
       "{'n_neighbors': 26}"
      ]
     },
     "execution_count": 49,
     "metadata": {},
     "output_type": "execute_result"
    }
   ],
   "source": [
    "# Using KNN\n",
    "# For KNN we need to know the best value of k using grid search\n",
    "from sklearn.model_selection import GridSearchCV\n",
    "from sklearn.neighbors import KNeighborsClassifier\n",
    "kc=KNeighborsClassifier()\n",
    "neighbors={\"n_neighbors\":range(1,30)}\n",
    "clf = GridSearchCV(kc, neighbors, cv=5,scoring=\"roc_auc\")\n",
    "clf.fit(x,y)\n",
    "clf.best_params_"
   ]
  },
  {
   "cell_type": "code",
   "execution_count": 50,
   "metadata": {},
   "outputs": [
    {
     "name": "stdout",
     "output_type": "stream",
     "text": [
      "auc roc score corresponding to  42  is  0.7393188854489163\n",
      "auc roc score corresponding to  43  is  0.6662538699690402\n",
      "auc roc score corresponding to  44  is  0.6808049535603716\n",
      "auc roc score corresponding to  45  is  0.7334365325077399\n",
      "auc roc score corresponding to  46  is  0.7057275541795665\n",
      "auc roc score corresponding to  47  is  0.7261609907120743\n",
      "auc roc score corresponding to  48  is  0.6513931888544893\n",
      "auc roc score corresponding to  49  is  0.758359133126935\n",
      "auc roc score corresponding to  50  is  0.6628482972136223\n",
      "auc roc score corresponding to  51  is  0.7258513931888545\n",
      "auc roc score corresponding to  52  is  0.7023219814241486\n",
      "auc roc score corresponding to  53  is  0.78328173374613\n",
      "auc roc score corresponding to  54  is  0.7057275541795665\n",
      "auc roc score corresponding to  55  is  0.780185758513932\n",
      "auc roc score corresponding to  56  is  0.6928792569659443\n",
      "auc roc score corresponding to  57  is  0.7040247678018576\n",
      "auc roc score corresponding to  58  is  0.7029411764705882\n",
      "auc roc score corresponding to  59  is  0.6410216718266253\n",
      "auc roc score corresponding to  60  is  0.7126934984520124\n",
      "auc roc score corresponding to  61  is  0.6998452012383901\n",
      "auc roc score corresponding to  62  is  0.7171826625386997\n",
      "auc roc score corresponding to  63  is  0.7099071207430339\n",
      "auc roc score corresponding to  64  is  0.7275541795665634\n",
      "auc roc score corresponding to  65  is  0.731733746130031\n",
      "auc roc score corresponding to  66  is  0.7289473684210527\n",
      "auc roc score corresponding to  67  is  0.6673374613003096\n",
      "auc roc score corresponding to  68  is  0.7379256965944272\n",
      "auc roc score corresponding to  69  is  0.7919504643962849\n",
      "auc roc score corresponding to  70  is  0.719969040247678\n",
      "auc roc score corresponding to  71  is  0.6513931888544893\n",
      "auc roc score corresponding to  72  is  0.6718266253869969\n",
      "auc roc score corresponding to  73  is  0.6953560371517027\n",
      "auc roc score corresponding to  74  is  0.6908668730650155\n",
      "auc roc score corresponding to  75  is  0.6863777089783282\n",
      "auc roc score corresponding to  76  is  0.7362229102167182\n",
      "auc roc score corresponding to  77  is  0.7376160990712075\n",
      "auc roc score corresponding to  78  is  0.7334365325077399\n",
      "auc roc score corresponding to  79  is  0.7071207430340558\n",
      "auc roc score corresponding to  80  is  0.660061919504644\n",
      "auc roc score corresponding to  81  is  0.7247678018575852\n",
      "auc roc score corresponding to  82  is  0.7351393188854488\n",
      "auc roc score corresponding to  83  is  0.7113003095975232\n",
      "auc roc score corresponding to  84  is  0.7012383900928792\n",
      "auc roc score corresponding to  85  is  0.7188854489164087\n",
      "auc roc score corresponding to  86  is  0.7670278637770898\n",
      "auc roc score corresponding to  87  is  0.6558823529411765\n",
      "auc roc score corresponding to  88  is  0.7359133126934985\n",
      "auc roc score corresponding to  89  is  0.6953560371517027\n",
      "auc roc score corresponding to  90  is  0.6749226006191951\n",
      "auc roc score corresponding to  91  is  0.7334365325077399\n",
      "auc roc score corresponding to  92  is  0.7040247678018576\n",
      "auc roc score corresponding to  93  is  0.681888544891641\n",
      "auc roc score corresponding to  94  is  0.660061919504644\n",
      "auc roc score corresponding to  95  is  0.6866873065015481\n",
      "auc roc score corresponding to  96  is  0.7701238390092879\n",
      "auc roc score corresponding to  97  is  0.6513931888544893\n",
      "auc roc score corresponding to  98  is  0.6866873065015481\n",
      "auc roc score corresponding to  99  is  0.7510835913312693\n",
      "max auc roc score corresponding to  69  is  0.7919504643962849\n"
     ]
    },
    {
     "data": {
      "text/plain": [
       "69"
      ]
     },
     "execution_count": 50,
     "metadata": {},
     "output_type": "execute_result"
    }
   ],
   "source": [
    "kc=KNeighborsClassifier(n_neighbors=26)\n",
    "max_aucroc_score(kc,x,y)"
   ]
  },
  {
   "cell_type": "code",
   "execution_count": 51,
   "metadata": {},
   "outputs": [
    {
     "data": {
      "text/plain": [
       "{'C': 0.1, 'kernel': 'rbf'}"
      ]
     },
     "execution_count": 51,
     "metadata": {},
     "output_type": "execute_result"
    }
   ],
   "source": [
    "# Using SVM\n",
    "from sklearn.svm import SVC\n",
    "svc=SVC()\n",
    "parameters={\"kernel\":[\"linear\", \"poly\", \"rbf\"],\"C\":[0.001,0.01,0.1,1,10]}\n",
    "clf = GridSearchCV(svc, parameters, cv=5,scoring=\"roc_auc\")\n",
    "clf.fit(x,y)\n",
    "clf.best_params_"
   ]
  },
  {
   "cell_type": "code",
   "execution_count": 52,
   "metadata": {},
   "outputs": [
    {
     "name": "stdout",
     "output_type": "stream",
     "text": [
      "auc roc score corresponding to  42  is  0.7704334365325077\n",
      "auc roc score corresponding to  43  is  0.7046439628482972\n",
      "auc roc score corresponding to  44  is  0.7046439628482972\n",
      "auc roc score corresponding to  45  is  0.75\n",
      "auc roc score corresponding to  46  is  0.6987616099071208\n",
      "auc roc score corresponding to  47  is  0.7309597523219815\n",
      "auc roc score corresponding to  48  is  0.6914860681114552\n",
      "auc roc score corresponding to  49  is  0.7908668730650155\n",
      "auc roc score corresponding to  50  is  0.7382352941176471\n",
      "auc roc score corresponding to  51  is  0.7863777089783281\n",
      "auc roc score corresponding to  52  is  0.7160990712074303\n",
      "auc roc score corresponding to  53  is  0.7777089783281734\n",
      "auc roc score corresponding to  54  is  0.7309597523219815\n",
      "auc roc score corresponding to  55  is  0.7659442724458203\n",
      "auc roc score corresponding to  56  is  0.678328173374613\n",
      "auc roc score corresponding to  57  is  0.725077399380805\n",
      "auc roc score corresponding to  58  is  0.6856037151702786\n",
      "auc roc score corresponding to  59  is  0.6856037151702786\n",
      "auc roc score corresponding to  60  is  0.7572755417956657\n",
      "auc roc score corresponding to  61  is  0.6651702786377709\n",
      "auc roc score corresponding to  62  is  0.7894736842105263\n",
      "auc roc score corresponding to  63  is  0.7382352941176471\n",
      "auc roc score corresponding to  64  is  0.7572755417956657\n",
      "auc roc score corresponding to  65  is  0.725077399380805\n",
      "auc roc score corresponding to  66  is  0.7659442724458203\n",
      "auc roc score corresponding to  67  is  0.725077399380805\n",
      "auc roc score corresponding to  68  is  0.7323529411764707\n",
      "auc roc score corresponding to  69  is  0.7455108359133128\n",
      "auc roc score corresponding to  70  is  0.771826625386997\n",
      "auc roc score corresponding to  71  is  0.7046439628482972\n",
      "auc roc score corresponding to  72  is  0.7119195046439628\n",
      "auc roc score corresponding to  73  is  0.7133126934984519\n",
      "auc roc score corresponding to  74  is  0.6852941176470588\n",
      "auc roc score corresponding to  75  is  0.7309597523219815\n",
      "auc roc score corresponding to  76  is  0.7922600619195046\n",
      "auc roc score corresponding to  77  is  0.7894736842105263\n",
      "auc roc score corresponding to  78  is  0.6914860681114552\n",
      "auc roc score corresponding to  79  is  0.6987616099071208\n",
      "auc roc score corresponding to  80  is  0.7191950464396285\n",
      "auc roc score corresponding to  81  is  0.7309597523219815\n",
      "auc roc score corresponding to  82  is  0.725077399380805\n",
      "auc roc score corresponding to  83  is  0.7777089783281734\n",
      "auc roc score corresponding to  84  is  0.6856037151702786\n",
      "auc roc score corresponding to  85  is  0.7046439628482972\n",
      "auc roc score corresponding to  86  is  0.7586687306501548\n",
      "auc roc score corresponding to  87  is  0.66656346749226\n",
      "auc roc score corresponding to  88  is  0.771826625386997\n",
      "auc roc score corresponding to  89  is  0.7572755417956657\n",
      "auc roc score corresponding to  90  is  0.7074303405572755\n",
      "auc roc score corresponding to  91  is  0.725077399380805\n",
      "auc roc score corresponding to  92  is  0.7396284829721362\n",
      "auc roc score corresponding to  93  is  0.7337461300309599\n",
      "auc roc score corresponding to  94  is  0.7105263157894737\n",
      "auc roc score corresponding to  95  is  0.7105263157894737\n",
      "auc roc score corresponding to  96  is  0.7572755417956657\n",
      "auc roc score corresponding to  97  is  0.6914860681114552\n",
      "auc roc score corresponding to  98  is  0.6914860681114552\n",
      "auc roc score corresponding to  99  is  0.7777089783281734\n",
      "max auc roc score corresponding to  76  is  0.7922600619195046\n"
     ]
    },
    {
     "data": {
      "text/plain": [
       "76"
      ]
     },
     "execution_count": 52,
     "metadata": {},
     "output_type": "execute_result"
    }
   ],
   "source": [
    "svc=SVC(kernel=\"rbf\",C=0.1)\n",
    "max_aucroc_score(svc,x,y)"
   ]
  },
  {
   "cell_type": "code",
   "execution_count": 53,
   "metadata": {},
   "outputs": [
    {
     "data": {
      "text/plain": [
       "{'learning_rate': 0.1, 'n_estimators': 100}"
      ]
     },
     "execution_count": 53,
     "metadata": {},
     "output_type": "execute_result"
    }
   ],
   "source": [
    "from sklearn.ensemble import GradientBoostingClassifier\n",
    "parameters={\"learning_rate\":[0.001,0.01,0.1,1],\"n_estimators\":[10,100,500,1000]}\n",
    "gb_clf=GradientBoostingClassifier()\n",
    "clf = GridSearchCV(gb_clf, parameters, cv=5,scoring=\"roc_auc\")\n",
    "clf.fit(df_x,y)\n",
    "clf.best_params_"
   ]
  },
  {
   "cell_type": "code",
   "execution_count": 54,
   "metadata": {
    "scrolled": true
   },
   "outputs": [
    {
     "name": "stdout",
     "output_type": "stream",
     "text": [
      "auc roc score corresponding to  42  is  0.7348297213622291\n",
      "auc roc score corresponding to  43  is  0.7538699690402476\n",
      "auc roc score corresponding to  44  is  0.7012383900928792\n",
      "auc roc score corresponding to  45  is  0.7524767801857586\n",
      "auc roc score corresponding to  46  is  0.6849845201238389\n",
      "auc roc score corresponding to  47  is  0.7289473684210527\n",
      "auc roc score corresponding to  48  is  0.6631578947368422\n",
      "auc roc score corresponding to  49  is  0.7452012383900928\n",
      "auc roc score corresponding to  50  is  0.7099071207430339\n",
      "auc roc score corresponding to  51  is  0.7376160990712075\n",
      "auc roc score corresponding to  52  is  0.7258513931888545\n",
      "auc roc score corresponding to  53  is  0.8023219814241486\n",
      "auc roc score corresponding to  54  is  0.7116099071207429\n",
      "auc roc score corresponding to  55  is  0.768421052631579\n",
      "auc roc score corresponding to  56  is  0.7116099071207429\n",
      "auc roc score corresponding to  57  is  0.6925696594427245\n",
      "auc roc score corresponding to  58  is  0.6472136222910216\n",
      "auc roc score corresponding to  59  is  0.7099071207430339\n",
      "auc roc score corresponding to  60  is  0.7168730650154798\n",
      "auc roc score corresponding to  61  is  0.6396284829721363\n",
      "auc roc score corresponding to  62  is  0.7421052631578948\n",
      "auc roc score corresponding to  63  is  0.7407120743034056\n",
      "auc roc score corresponding to  64  is  0.7656346749226006\n",
      "auc roc score corresponding to  65  is  0.6936532507739939\n",
      "auc roc score corresponding to  66  is  0.7085139318885448\n",
      "auc roc score corresponding to  67  is  0.6849845201238389\n",
      "auc roc score corresponding to  68  is  0.6763157894736842\n",
      "auc roc score corresponding to  69  is  0.721671826625387\n",
      "auc roc score corresponding to  70  is  0.7037151702786378\n",
      "auc roc score corresponding to  71  is  0.7071207430340558\n",
      "auc roc score corresponding to  72  is  0.695046439628483\n",
      "auc roc score corresponding to  73  is  0.6704334365325076\n",
      "auc roc score corresponding to  74  is  0.6894736842105263\n",
      "auc roc score corresponding to  75  is  0.6995356037151703\n",
      "auc roc score corresponding to  76  is  0.7639318885448916\n",
      "auc roc score corresponding to  77  is  0.7244582043343653\n",
      "auc roc score corresponding to  78  is  0.7202786377708978\n",
      "auc roc score corresponding to  79  is  0.6835913312693498\n",
      "auc roc score corresponding to  80  is  0.6863777089783282\n",
      "auc roc score corresponding to  81  is  0.7611455108359133\n",
      "auc roc score corresponding to  82  is  0.7421052631578948\n",
      "auc roc score corresponding to  83  is  0.7258513931888545\n",
      "auc roc score corresponding to  84  is  0.6849845201238389\n",
      "auc roc score corresponding to  85  is  0.6981424148606811\n",
      "auc roc score corresponding to  86  is  0.7712074303405573\n",
      "auc roc score corresponding to  87  is  0.6558823529411765\n",
      "auc roc score corresponding to  88  is  0.7625386996904024\n",
      "auc roc score corresponding to  89  is  0.7348297213622291\n",
      "auc roc score corresponding to  90  is  0.6998452012383901\n",
      "auc roc score corresponding to  91  is  0.7113003095975232\n",
      "auc roc score corresponding to  92  is  0.6760061919504644\n",
      "auc roc score corresponding to  93  is  0.6967492260061919\n",
      "auc roc score corresponding to  94  is  0.6852941176470588\n",
      "auc roc score corresponding to  95  is  0.721671826625387\n",
      "auc roc score corresponding to  96  is  0.7334365325077399\n",
      "auc roc score corresponding to  97  is  0.7085139318885448\n",
      "auc roc score corresponding to  98  is  0.7026315789473685\n",
      "auc roc score corresponding to  99  is  0.8109907120743034\n",
      "max auc roc score corresponding to  99  is  0.8109907120743034\n"
     ]
    },
    {
     "data": {
      "text/plain": [
       "99"
      ]
     },
     "execution_count": 54,
     "metadata": {},
     "output_type": "execute_result"
    }
   ],
   "source": [
    "gb_clf=GradientBoostingClassifier(learning_rate=0.1,n_estimators=100)\n",
    "max_aucroc_score(gb_clf,df_x,y)"
   ]
  },
  {
   "cell_type": "code",
   "execution_count": 55,
   "metadata": {},
   "outputs": [
    {
     "name": "stdout",
     "output_type": "stream",
     "text": [
      "auc roc score corresponding to  42  is  0.7303405572755417\n",
      "auc roc score corresponding to  43  is  0.6586687306501546\n",
      "auc roc score corresponding to  44  is  0.5631578947368422\n",
      "auc roc score corresponding to  45  is  0.6936532507739939\n",
      "auc roc score corresponding to  46  is  0.6746130030959752\n",
      "auc roc score corresponding to  47  is  0.638235294117647\n",
      "auc roc score corresponding to  48  is  0.6379256965944272\n",
      "auc roc score corresponding to  49  is  0.6116099071207429\n",
      "auc roc score corresponding to  50  is  0.6936532507739939\n",
      "auc roc score corresponding to  51  is  0.7434984520123838\n",
      "auc roc score corresponding to  52  is  0.6642414860681115\n",
      "auc roc score corresponding to  53  is  0.6631578947368422\n",
      "auc roc score corresponding to  54  is  0.6760061919504644\n",
      "auc roc score corresponding to  55  is  0.756656346749226\n",
      "auc roc score corresponding to  56  is  0.6676470588235295\n",
      "auc roc score corresponding to  57  is  0.6541795665634675\n",
      "auc roc score corresponding to  58  is  0.6410216718266253\n",
      "auc roc score corresponding to  59  is  0.6732198142414861\n",
      "auc roc score corresponding to  60  is  0.7068111455108359\n",
      "auc roc score corresponding to  61  is  0.6967492260061919\n",
      "auc roc score corresponding to  62  is  0.7154798761609907\n",
      "auc roc score corresponding to  63  is  0.6964396284829721\n",
      "auc roc score corresponding to  64  is  0.7479876160990713\n",
      "auc roc score corresponding to  65  is  0.670123839009288\n",
      "auc roc score corresponding to  66  is  0.6410216718266253\n",
      "auc roc score corresponding to  67  is  0.6628482972136223\n",
      "auc roc score corresponding to  68  is  0.6396284829721363\n",
      "auc roc score corresponding to  69  is  0.6922600619195046\n",
      "auc roc score corresponding to  70  is  0.7113003095975232\n",
      "auc roc score corresponding to  71  is  0.6746130030959752\n",
      "auc roc score corresponding to  72  is  0.6219814241486069\n",
      "auc roc score corresponding to  73  is  0.6877708978328174\n",
      "auc roc score corresponding to  74  is  0.6410216718266253\n",
      "auc roc score corresponding to  75  is  0.6116099071207429\n",
      "auc roc score corresponding to  76  is  0.7552631578947369\n",
      "auc roc score corresponding to  77  is  0.6760061919504644\n",
      "auc roc score corresponding to  78  is  0.6687306501547987\n",
      "auc roc score corresponding to  79  is  0.7113003095975232\n",
      "auc roc score corresponding to  80  is  0.6746130030959752\n",
      "auc roc score corresponding to  81  is  0.6995356037151703\n",
      "auc roc score corresponding to  82  is  0.7538699690402476\n",
      "auc roc score corresponding to  83  is  0.7434984520123838\n",
      "auc roc score corresponding to  84  is  0.6264705882352941\n",
      "auc roc score corresponding to  85  is  0.6205882352941177\n",
      "auc roc score corresponding to  86  is  0.6687306501547987\n",
      "auc roc score corresponding to  87  is  0.6060371517027863\n",
      "auc roc score corresponding to  88  is  0.6365325077399381\n",
      "auc roc score corresponding to  89  is  0.6953560371517027\n",
      "auc roc score corresponding to  90  is  0.7171826625386997\n",
      "auc roc score corresponding to  91  is  0.681888544891641\n",
      "auc roc score corresponding to  92  is  0.6835913312693498\n",
      "auc roc score corresponding to  93  is  0.6614551083591331\n",
      "auc roc score corresponding to  94  is  0.6527863777089783\n",
      "auc roc score corresponding to  95  is  0.5825077399380805\n",
      "auc roc score corresponding to  96  is  0.6732198142414861\n",
      "auc roc score corresponding to  97  is  0.6441176470588235\n",
      "auc roc score corresponding to  98  is  0.6469040247678018\n",
      "auc roc score corresponding to  99  is  0.6936532507739939\n",
      "max auc roc score corresponding to  55  is  0.756656346749226\n"
     ]
    },
    {
     "data": {
      "text/plain": [
       "55"
      ]
     },
     "execution_count": 55,
     "metadata": {},
     "output_type": "execute_result"
    }
   ],
   "source": [
    "# Checking AdaBoost using decision tree as an estimator\n",
    "from sklearn.ensemble import AdaBoostClassifier\n",
    "#parameters={\"base_estimator\":[dc,lg_clf,svc],\"learning_rate\":[0.001,0.01,0.1,1],\"n_estimators\":[10,100,500,1000]}\n",
    "ada_clf=AdaBoostClassifier(base_estimator=dc)\n",
    "max_aucroc_score(ada_clf,df_x,y)"
   ]
  },
  {
   "cell_type": "code",
   "execution_count": 56,
   "metadata": {},
   "outputs": [
    {
     "name": "stdout",
     "output_type": "stream",
     "text": [
      "Mean roc auc score for logistic classifier:  0.8084227348159236\n",
      "standard deviation in roc auc score for logistic classifier:  0.046368942688494015\n",
      "[0.85510836 0.7625387  0.82539683 0.8543956  0.74467419]\n"
     ]
    }
   ],
   "source": [
    "#lets use cross_val_score for logistic regression\n",
    "from sklearn.model_selection import cross_val_score\n",
    "print(\"Mean roc auc score for logistic classifier: \",cross_val_score(lg_clf,x,y,cv=5,scoring=\"roc_auc\").mean())\n",
    "print(\"standard deviation in roc auc score for logistic classifier: \",cross_val_score(lg_clf,x,y,cv=5,scoring=\"roc_auc\").std())\n",
    "print(cross_val_score(lg_clf,x,y,cv=5,scoring=\"roc_auc\"))"
   ]
  },
  {
   "cell_type": "code",
   "execution_count": 57,
   "metadata": {},
   "outputs": [
    {
     "name": "stdout",
     "output_type": "stream",
     "text": [
      "Mean auc roc score for decision tree classifier:  0.6950356093854546\n",
      "standard deviation in auc roc score for decision tree classifier:  0.019746645497622988\n",
      "[0.70402477 0.63684211 0.66895604 0.73626374 0.71334586]\n"
     ]
    }
   ],
   "source": [
    "#lets use cross_val_score for decision tree\n",
    "print(\"Mean auc roc score for decision tree classifier: \",cross_val_score(dc,df_x,y,cv=5,scoring=\"roc_auc\").mean())\n",
    "print(\"standard deviation in auc roc score for decision tree classifier: \",cross_val_score(dc,df_x,y,cv=5,scoring=\"roc_auc\").std())\n",
    "print(cross_val_score(dc,df_x,y,cv=5,scoring=\"roc_auc\"))"
   ]
  },
  {
   "cell_type": "code",
   "execution_count": 58,
   "metadata": {},
   "outputs": [
    {
     "name": "stdout",
     "output_type": "stream",
     "text": [
      "Mean auc roc score for random forest classifier:  0.813761713862333\n",
      "standard deviation in auc roc score for random forest classifier:  0.03617886028429046\n",
      "[0.84055728 0.73095975 0.82722833 0.84569597 0.79401629]\n"
     ]
    }
   ],
   "source": [
    "#lets check cross_val_score for random forest\n",
    "print(\"Mean auc roc score for random forest classifier: \",cross_val_score(rf_clf,df_x,y,cv=5,scoring=\"roc_auc\").mean())\n",
    "print(\"standard deviation in auc roc score for random forest classifier: \",cross_val_score(rf_clf,df_x,y,cv=5,scoring=\"roc_auc\").std())\n",
    "print(cross_val_score(rf_clf,df_x,y,cv=5,scoring=\"roc_auc\"))"
   ]
  },
  {
   "cell_type": "code",
   "execution_count": 59,
   "metadata": {},
   "outputs": [
    {
     "name": "stdout",
     "output_type": "stream",
     "text": [
      "Mean roc auc score for knn classifier:  0.791553109772924\n",
      "standard deviation in roc auc score for knn classifier:  0.02430727205585847\n",
      "[0.80123839 0.76130031 0.77930403 0.83302808 0.78289474]\n"
     ]
    }
   ],
   "source": [
    "#lets use cross_val_score for knn \n",
    "from sklearn.model_selection import cross_val_score\n",
    "print(\"Mean roc auc score for knn classifier: \",cross_val_score(kc,x,y,cv=5,scoring=\"roc_auc\").mean())\n",
    "print(\"standard deviation in roc auc score for knn classifier: \",cross_val_score(kc,x,y,cv=5,scoring=\"roc_auc\").std())\n",
    "print(cross_val_score(kc,x,y,cv=5,scoring=\"roc_auc\"))"
   ]
  },
  {
   "cell_type": "code",
   "execution_count": 60,
   "metadata": {},
   "outputs": [
    {
     "name": "stdout",
     "output_type": "stream",
     "text": [
      "Mean roc auc score for svm classifier:  0.7874915229249595\n",
      "standard deviation in roc auc score for svm classifier:  0.03223201984191068\n",
      "[0.80712074 0.73591331 0.81379731 0.81715507 0.76347118]\n"
     ]
    }
   ],
   "source": [
    "#lets use cross_val_score for svm\n",
    "from sklearn.model_selection import cross_val_score\n",
    "print(\"Mean roc auc score for svm classifier: \",cross_val_score(svc,x,y,cv=5,scoring=\"roc_auc\").mean())\n",
    "print(\"standard deviation in roc auc score for svm classifier: \",cross_val_score(svc,x,y,cv=5,scoring=\"roc_auc\").std())\n",
    "print(cross_val_score(svc,x,y,cv=5,scoring=\"roc_auc\"))"
   ]
  },
  {
   "cell_type": "code",
   "execution_count": 61,
   "metadata": {},
   "outputs": [
    {
     "name": "stdout",
     "output_type": "stream",
     "text": [
      "Mean auc roc score for gradient boosting classifier:  0.7921139008909908\n",
      "standard deviation in auc roc score for gradient boosting classifier:  0.04715006276540935\n",
      "[0.82569659 0.69566563 0.78846154 0.85409035 0.79354637]\n"
     ]
    }
   ],
   "source": [
    "#lets check cross_val_score for gradient boosting\n",
    "print(\"Mean auc roc score for gradient boosting classifier: \",cross_val_score(gb_clf,df_x,y,cv=5,scoring=\"roc_auc\").mean())\n",
    "print(\"standard deviation in auc roc score for gradient boosting classifier: \",cross_val_score(gb_clf,df_x,y,cv=5,scoring=\"roc_auc\").std())\n",
    "print(cross_val_score(gb_clf,df_x,y,cv=5,scoring=\"roc_auc\"))"
   ]
  },
  {
   "cell_type": "code",
   "execution_count": 62,
   "metadata": {},
   "outputs": [],
   "source": [
    "# We will use random forest as our final model with random state 49 as it has greater mean AUC-ROC score than other models\n",
    "x_train, x_test, y_train, y_test = train_test_split(df_x, y,random_state = 49, test_size=0.20,stratify=y)\n",
    "x_train, y_train = SMOTE().fit_sample(x_train, y_train)\n",
    "rf_clf=RandomForestClassifier(n_estimators=500)\n",
    "rf_clf.fit(x_train,y_train)\n",
    "y_pred=rf_clf.predict(x_test)"
   ]
  },
  {
   "cell_type": "code",
   "execution_count": 63,
   "metadata": {},
   "outputs": [
    {
     "name": "stdout",
     "output_type": "stream",
     "text": [
      "Confusion matrix \n",
      " [[26 12]\n",
      " [13 72]]\n",
      "f1 score is :  0.8520710059171598\n",
      "classification report \n",
      "               precision    recall  f1-score   support\n",
      "\n",
      "           0       0.67      0.68      0.68        38\n",
      "           1       0.86      0.85      0.85        85\n",
      "\n",
      "    accuracy                           0.80       123\n",
      "   macro avg       0.76      0.77      0.76       123\n",
      "weighted avg       0.80      0.80      0.80       123\n",
      "\n",
      "AUC ROC Score:  0.7656346749226006\n"
     ]
    }
   ],
   "source": [
    "from sklearn.metrics import confusion_matrix\n",
    "from sklearn.metrics import classification_report\n",
    "from sklearn.metrics import f1_score\n",
    "from sklearn.metrics import roc_auc_score\n",
    "print(\"Confusion matrix \\n\",confusion_matrix(y_test,y_pred))\n",
    "print(\"f1 score is : \",f1_score(y_test,y_pred))\n",
    "print(\"classification report \\n\",classification_report(y_test,y_pred))\n",
    "print(\"AUC ROC Score: \",roc_auc_score(y_test,y_pred))"
   ]
  }
 ],
 "metadata": {
  "kernelspec": {
   "display_name": "Python 3 (ipykernel)",
   "language": "python",
   "name": "python3"
  },
  "language_info": {
   "codemirror_mode": {
    "name": "ipython",
    "version": 3
   },
   "file_extension": ".py",
   "mimetype": "text/x-python",
   "name": "python",
   "nbconvert_exporter": "python",
   "pygments_lexer": "ipython3",
   "version": "3.9.12"
  }
 },
 "nbformat": 4,
 "nbformat_minor": 2
}
